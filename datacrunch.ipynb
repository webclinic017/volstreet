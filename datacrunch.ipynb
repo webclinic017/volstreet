{
 "cells": [
  {
   "cell_type": "code",
   "execution_count": null,
   "metadata": {
    "collapsed": true
   },
   "outputs": [],
   "source": [
    "import volstreet.datamodule as dm\n",
    "import plotly.express as px\n",
    "from sklearn.linear_model import LinearRegression\n",
    "import pandas as pd\n",
    "import numpy as np\n",
    "from scipy.optimize import curve_fit\n",
    "import volstreet as vs\n",
    "import plotly.graph_objects as go\n",
    "from plotly.subplots import make_subplots"
   ]
  },
  {
   "cell_type": "code",
   "execution_count": null,
   "outputs": [],
   "source": [
    "# Using DataClient class\n",
    "client = dm.DataClient(api_key=__import__('os').environ['EOD_API_KEY'])\n",
    "kite_user = __import__('os').environ['KITE_USER']\n",
    "kite_pass = __import__('os').environ['KITE_PASS']\n",
    "kite_api_key = __import__('os').environ['KITE_API_KEY']\n",
    "kite_api_secret = __import__('os').environ['KITE_API_SECRET']\n",
    "kite_auth_key = __import__('os').environ['KITE_AUTH_KEY']"
   ],
   "metadata": {
    "collapsed": false
   }
  },
  {
   "cell_type": "code",
   "execution_count": null,
   "outputs": [],
   "source": [
    "# Using get_data and analyser functions\n",
    "nifty_data = client.get_data(symbol='NIFTY')\n",
    "bnf_data = client.get_data(symbol='BANKNIFTY')\n",
    "finnifty_data = client.get_data(symbol='FINNIFTY')\n",
    "nifty_daily_data = dm.analyser(nifty_data, frequency='D')\n",
    "bnf_daily_data = dm.analyser(bnf_data, frequency='D')\n",
    "nifty_weekly_data = dm.analyser(nifty_data, frequency='W-THU')\n",
    "bnf_weekly_data = dm.analyser(bnf_data, frequency='W-THU')\n",
    "nifty_monthly_data = dm.analyser(nifty_data, frequency='M-THU')\n",
    "bnf_monthly_data = dm.analyser(bnf_data, frequency='M-THU')"
   ],
   "metadata": {
    "collapsed": false
   }
  },
  {
   "cell_type": "code",
   "execution_count": null,
   "outputs": [],
   "source": [
    "# Using ratio_analysis function\n",
    "rolling_periods = 5\n",
    "ratio_data = dm.ratio_analysis(bnf_weekly_data, nifty_weekly_data, add_rolling=rolling_periods)\n",
    "px.line(ratio_data, x=ratio_data.index, y=['BANKNIFTY Change', 'NIFTY Change', f'Rolling {rolling_periods} Ratio'], color_discrete_map={'BANKNIFTY Change': 'red', 'NIFTY Change': 'blue', f'Rolling {rolling_periods} Ratio': 'green'})"
   ],
   "metadata": {
    "collapsed": false
   }
  },
  {
   "cell_type": "code",
   "execution_count": null,
   "outputs": [],
   "source": [
    "ratio_data"
   ],
   "metadata": {
    "collapsed": false
   }
  },
  {
   "cell_type": "code",
   "execution_count": null,
   "outputs": [],
   "source": [
    "# Using gambler function for NIFTY and BANKNIFTY\n",
    "for index in ['NIFTY', 'BANKNIFTY']:\n",
    "    print(f'{index}\\n')\n",
    "    data = client.get_data(symbol=index)\n",
    "    for frequency in ['D', 'D-THU', 'W-THU', 'M-THU']:\n",
    "        print(f'{frequency}\\n')\n",
    "        dm.gambler(data, frequency, 'abs_change')"
   ],
   "metadata": {
    "collapsed": false
   }
  },
  {
   "cell_type": "code",
   "execution_count": null,
   "outputs": [],
   "source": [
    "# Using gambler function for FINNIFTY\n",
    "for index in ['FINNIFTY']:\n",
    "    print(f'{index}\\n')\n",
    "    data = client.get_data(symbol=index)\n",
    "    for frequency in ['D', 'D-TUE', 'W-TUE', 'M-TUE']:\n",
    "        print(f'{frequency}\\n')\n",
    "        dm.gambler(data, frequency, 'abs_change')"
   ],
   "metadata": {
    "collapsed": false
   }
  },
  {
   "cell_type": "code",
   "execution_count": null,
   "outputs": [],
   "source": [
    "# Rolling average of absolute change to support gambler function\n",
    "analysed_df = dm.analyser(finnifty_data, frequency='W-tue')\n",
    "rolling_periods = 9\n",
    "analysed_df['rolling'] = analysed_df['abs_change'].rolling(rolling_periods, min_periods=1).mean()\n",
    "px.line(analysed_df, x=analysed_df.index, y='rolling')"
   ],
   "metadata": {
    "collapsed": false
   }
  },
  {
   "cell_type": "code",
   "execution_count": null,
   "outputs": [],
   "source": [
    "analysed_df"
   ],
   "metadata": {
    "collapsed": false
   }
  },
  {
   "cell_type": "markdown",
   "source": [
    "# One min data"
   ],
   "metadata": {
    "collapsed": false
   }
  },
  {
   "cell_type": "code",
   "execution_count": null,
   "outputs": [],
   "source": [
    "kite_obj = dm.get_greenlit_kite(kite_api_key, kite_api_secret, kite_user, kite_pass, kite_auth_key)"
   ],
   "metadata": {
    "collapsed": false
   }
  },
  {
   "cell_type": "code",
   "execution_count": null,
   "outputs": [],
   "source": [
    "# Updating one min data for NIFTY 50, NIFTY BANK and NIFTY FIN SERVICE\n",
    "dm.get_1m_data(kite_obj, 'NIFTY 50', path='data\\\\')\n",
    "dm.get_1m_data(kite_obj, 'NIFTY BANK', path='data\\\\')\n",
    "dm.get_1m_data(kite_obj, 'NIFTY FIN SERVICE', path='data\\\\')"
   ],
   "metadata": {
    "collapsed": false
   }
  },
  {
   "cell_type": "code",
   "execution_count": null,
   "outputs": [],
   "source": [
    "nifty_ticker, nifty_weights = vs.get_index_constituents('NIFTY')"
   ],
   "metadata": {
    "collapsed": false
   }
  },
  {
   "cell_type": "code",
   "execution_count": null,
   "outputs": [],
   "source": [
    "for ticker in nifty_ticker:\n",
    "    dm.get_1m_data(kite_obj, ticker, path='data\\\\')"
   ],
   "metadata": {
    "collapsed": false
   }
  },
  {
   "cell_type": "code",
   "execution_count": null,
   "outputs": [],
   "source": [
    "nifty_onemin = pd.read_csv('data/NIFTY 50_onemin_prices.csv', index_col=0, parse_dates=True)\n",
    "bnf_onemin = pd.read_csv('data/NIFTY BANK_onemin_prices.csv', index_col=0, parse_dates=True)\n",
    "fin_onemin = pd.read_csv('data/NIFTY FIN SERVICE_onemin_prices.csv', index_col=0, parse_dates=True)"
   ],
   "metadata": {
    "collapsed": false
   }
  },
  {
   "cell_type": "markdown",
   "source": [
    "# Intraday Trend"
   ],
   "metadata": {
    "collapsed": false
   }
  },
  {
   "cell_type": "code",
   "execution_count": null,
   "outputs": [],
   "source": [
    "trend_nifty = dm.backtest_intraday_trend(nifty_onemin, eod_client=client)\n",
    "trend_bnf = dm.backtest_intraday_trend(bnf_onemin, beta = 1.35, eod_client=client)\n",
    "trend_finnifty = dm.backtest_intraday_trend(fin_onemin, beta = 1.30, eod_client=client)\n",
    "\n",
    "trend_nifty_summary = dm.daywise_returns_of_intraday_trend(trend_nifty)\n",
    "trend_bnf_summary = dm.daywise_returns_of_intraday_trend(trend_bnf)\n",
    "trend_finnifty_summary = dm.daywise_returns_of_intraday_trend(trend_finnifty)\n",
    "\n",
    "trend_nifty_drivers = dm.calculate_intraday_return_drivers(nifty_onemin, trend_nifty_summary)\n",
    "trend_bnf_drivers = dm.calculate_intraday_return_drivers(bnf_onemin, trend_bnf_summary)\n",
    "trend_finnifty_drivers = dm.calculate_intraday_return_drivers(fin_onemin, trend_finnifty_summary)"
   ],
   "metadata": {
    "collapsed": false
   }
  },
  {
   "cell_type": "code",
   "execution_count": null,
   "outputs": [],
   "source": [
    "trend_bnf_drivers"
   ],
   "metadata": {
    "collapsed": false
   }
  },
  {
   "cell_type": "code",
   "execution_count": null,
   "outputs": [],
   "source": [
    "# Year wise summary of returns\n",
    "df_to_sum = trend_nifty_drivers\n",
    "df_to_sum.groupby(df_to_sum.index.year).returns.sum()"
   ],
   "metadata": {
    "collapsed": false
   }
  },
  {
   "cell_type": "code",
   "execution_count": null,
   "outputs": [],
   "source": [
    "all_indices_returns = trend_bnf_summary.merge(trend_finnifty_summary, left_index=True, right_index=True, suffixes=('_bnf', '_finnifty')).merge(trend_nifty_summary, left_index=True, right_index=True, suffixes=('', '_nifty'))[['returns', 'returns_bnf', 'returns_finnifty']]\n",
    "all_indices_returns"
   ],
   "metadata": {
    "collapsed": false
   }
  },
  {
   "cell_type": "code",
   "execution_count": null,
   "outputs": [],
   "source": [
    "# Plotting the distribution of the ratio for stop loss and no stop loss days for all indices\n",
    "all_indices_vertical = pd.concat([trend_bnf_drivers, trend_finnifty_drivers, trend_nifty_drivers])\n",
    "all_indices_vertical_stop_loss =  all_indices_vertical[(all_indices_vertical.returns <= -0.3)]\n",
    "all_indices_vertical_no_stop_loss =  all_indices_vertical[(all_indices_vertical.returns > -0.3)]\n",
    "fig = px.histogram(all_indices_vertical_stop_loss, x='ratio')\n",
    "fig.add_trace(go.Histogram(x=all_indices_vertical_no_stop_loss.ratio, name='No Stop Loss'))\n",
    "fig.update_layout(barmode='overlay')\n",
    "fig.update_traces(opacity=0.75)"
   ],
   "metadata": {
    "collapsed": false
   }
  },
  {
   "cell_type": "code",
   "execution_count": null,
   "outputs": [],
   "source": [
    "# Plotting the minute vol and open to close trend on different y axis\n",
    "df_to_plot = trend_nifty_drivers\n",
    "fig = make_subplots(specs=[[{\"secondary_y\": True}]])\n",
    "fig.add_trace(go.Line(x=df_to_plot.index, y=df_to_plot['rolling_ratio'], name='Ratio'), secondary_y=True)\n",
    "fig.add_trace(go.Line(x=df_to_plot.index, y=df_to_plot['returns_rolling'], name='Returns'), secondary_y=False)"
   ],
   "metadata": {
    "collapsed": false
   }
  },
  {
   "cell_type": "markdown",
   "source": [
    "# Modelling IV surface"
   ],
   "metadata": {
    "collapsed": false
   }
  },
  {
   "cell_type": "code",
   "execution_count": null,
   "outputs": [],
   "source": [
    "# Modelling IV surface\n",
    "vol_surface = pd.read_csv('data/vol_surface.csv', index_col=0)\n",
    "#vol_surface = vol_surface.drop(vol_surface[vol_surface.isna().all(axis=1)].index)\n",
    "vol_surface['tte'] = vol_surface.time_to_expiry.apply(lambda num: round(num, 4))\n",
    "vol_surface"
   ],
   "metadata": {
    "collapsed": false
   }
  },
  {
   "cell_type": "code",
   "execution_count": null,
   "outputs": [],
   "source": [
    "# Modelling IV surface\n",
    "vol_surface_dict = {}\n",
    "for tte in vol_surface.tte.unique():\n",
    "    X = vol_surface.loc[vol_surface.tte == tte][['distance', 'distance_squared']]\n",
    "    y = vol_surface.loc[vol_surface.tte == tte]['iv_multiple']\n",
    "    model = LinearRegression()\n",
    "    model.fit(X, y)\n",
    "    dis_sq_coeff, dis_coeff, intercept = model.coef_[1], model.coef_[0], model.intercept_\n",
    "    score = model.score(X, y)\n",
    "    if score > 0.9:\n",
    "        vol_surface_dict[tte] = {'dis_sq_coeff': dis_sq_coeff, 'dis_coeff': dis_coeff, 'intercept': intercept, 'score': score}\n",
    "    # print(f'{tte} days to expiry: Coefficients: {model.coef_}, Intercept: {model.intercept_}, R2: {model.score(X, y)}')\n",
    "vol_surface_weights = pd.DataFrame(vol_surface_dict).T.reset_index().rename(columns={'index': 'time_to_expiry'})\n",
    "vol_surface_weights.sort_values('time_to_expiry', inplace=True)"
   ],
   "metadata": {
    "collapsed": false
   }
  },
  {
   "cell_type": "code",
   "execution_count": null,
   "outputs": [],
   "source": [
    "vol_surface_weights"
   ],
   "metadata": {
    "collapsed": false
   }
  },
  {
   "cell_type": "code",
   "execution_count": null,
   "outputs": [],
   "source": [
    "fig = px.scatter(vol_surface_weights, x='time_to_expiry', y='dis_sq_coeff')\n",
    "fig.show()"
   ],
   "metadata": {
    "collapsed": false
   }
  },
  {
   "cell_type": "code",
   "execution_count": null,
   "outputs": [],
   "source": [
    "def func(x, a, b, c):\n",
    "    return a * np.exp(-b * x) + c\n",
    "lower_bounds = [-np.inf, -np.inf, -np.inf]\n",
    "upper_bounds = [np.inf, np.inf, np.inf]\n",
    "popt, pcov = curve_fit(func, vol_surface_weights['time_to_expiry'], vol_surface_weights['dis_sq_coeff'], bounds=(lower_bounds, upper_bounds))"
   ],
   "metadata": {
    "collapsed": false
   }
  },
  {
   "cell_type": "code",
   "execution_count": null,
   "outputs": [],
   "source": [
    "dummy_range = np.arange(0, 1, 0.0001)\n",
    "fig.add_trace(px.line(x=dummy_range, y=func(dummy_range, *popt)).data[0])"
   ],
   "metadata": {
    "collapsed": false
   }
  },
  {
   "cell_type": "code",
   "execution_count": null,
   "outputs": [],
   "source": [
    "popt"
   ],
   "metadata": {
    "collapsed": false
   }
  },
  {
   "cell_type": "code",
   "execution_count": null,
   "outputs": [],
   "source": [
    "# Modelling IV surface - Distance Squared coefficient vs Time to Expiry (inverse)\n",
    "for param in np.arange(0.02, 1.5, 0.01):\n",
    "    vol_surface_weights['tte_inverse'] = 1 / (vol_surface_weights.time_to_expiry**param)\n",
    "    X = vol_surface_weights['tte_inverse'].values.reshape(-1, 1)\n",
    "    y = vol_surface_weights['dis_coeff']\n",
    "    model = LinearRegression()\n",
    "    model.fit(X, y)\n",
    "    print(f'{param} param: Coefficients: {model.coef_}, Intercept: {model.intercept_}, R2: {model.score(X, y)}')"
   ],
   "metadata": {
    "collapsed": false
   }
  },
  {
   "cell_type": "code",
   "execution_count": null,
   "outputs": [],
   "source": [
    "px.scatter(vol_surface_weights, x='time_to_expiry', y='dis_coeff')"
   ],
   "metadata": {
    "collapsed": false
   }
  },
  {
   "cell_type": "code",
   "execution_count": null,
   "outputs": [],
   "source": [
    "def coefficients_for_surface(tte):\n",
    "\n",
    "    # distance squared coefficient\n",
    "    dfs2 = 3270.27*np.exp(-384.38*tte) + 100\n",
    "    dfs2 = min(dfs2, 20000)\n",
    "\n",
    "    # distance coefficient\n",
    "    if tte < 0.26/365:\n",
    "        dfs = 1\n",
    "    else:\n",
    "        dfs = 1 / ((tte ** 0.45) * 5)\n",
    "        dfs = min(dfs, 5)\n",
    "        dfs = -6 + dfs\n",
    "\n",
    "    # intercept\n",
    "    if tte<3/(24*365):\n",
    "        intercept=1.07\n",
    "    elif tte<0.27/365:\n",
    "        intercept=1\n",
    "    else:\n",
    "        intercept=0.98\n",
    "    return dfs2, dfs, intercept"
   ],
   "metadata": {
    "collapsed": false
   }
  },
  {
   "cell_type": "code",
   "execution_count": null,
   "outputs": [],
   "source": [
    "coefficients_for_surface(2/365)"
   ],
   "metadata": {
    "collapsed": false
   }
  }
 ],
 "metadata": {
  "kernelspec": {
   "display_name": "Python 3",
   "language": "python",
   "name": "python3"
  },
  "language_info": {
   "codemirror_mode": {
    "name": "ipython",
    "version": 2
   },
   "file_extension": ".py",
   "mimetype": "text/x-python",
   "name": "python",
   "nbconvert_exporter": "python",
   "pygments_lexer": "ipython2",
   "version": "2.7.6"
  }
 },
 "nbformat": 4,
 "nbformat_minor": 0
}
