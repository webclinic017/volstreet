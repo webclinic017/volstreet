{
 "cells": [
  {
   "cell_type": "code",
   "execution_count": null,
   "metadata": {
    "collapsed": true
   },
   "outputs": [],
   "source": [
    "import autotrader.datamodule as dm\n",
    "import plotly.express as px\n",
    "from sklearn.linear_model import LinearRegression\n",
    "import pandas as pd\n",
    "import numpy as np"
   ]
  },
  {
   "cell_type": "code",
   "execution_count": null,
   "outputs": [],
   "source": [
    "# Using DataClient class\n",
    "client = dm.DataClient(api_key=__import__('os').environ['EOD_API_KEY'])"
   ],
   "metadata": {
    "collapsed": false
   }
  },
  {
   "cell_type": "code",
   "execution_count": null,
   "outputs": [],
   "source": [
    "# Using get_data and analyser functions\n",
    "nifty_data = client.get_data(symbol='NIFTY')\n",
    "bnf_data = client.get_data(symbol='BANKNIFTY')\n",
    "nifty_daily_data = dm.analyser(nifty_data, frequency='D')\n",
    "bnf_daily_data = dm.analyser(bnf_data, frequency='D')\n",
    "nifty_weekly_data = dm.analyser(nifty_data, frequency='W-THU')\n",
    "bnf_weekly_data = dm.analyser(bnf_data, frequency='W-THU')\n",
    "nifty_monthly_data = dm.analyser(nifty_data, frequency='M-THU')\n",
    "bnf_monthly_data = dm.analyser(bnf_data, frequency='M-THU')"
   ],
   "metadata": {
    "collapsed": false
   }
  },
  {
   "cell_type": "code",
   "execution_count": null,
   "outputs": [],
   "source": [
    "# Using ratio_analysis function\n",
    "rolling_days = 45\n",
    "ratio_data = dm.ratio_analysis(bnf_weekly_data, nifty_weekly_data, add_rolling=rolling_days)\n",
    "px.line(ratio_data, x=ratio_data.index, y=['BANKNIFTY Change', 'NIFTY Change', f'Rolling {rolling_days} Ratio'], color_discrete_map={'BANKNIFTY Change': 'red', 'NIFTY Change': 'blue', f'Rolling {rolling_days} Ratio': 'green'})"
   ],
   "metadata": {
    "collapsed": false
   }
  },
  {
   "cell_type": "code",
   "execution_count": null,
   "outputs": [],
   "source": [
    "# Using gambler function\n",
    "for index in ['FINNIFTY']:\n",
    "    print(f'{index}\\n')\n",
    "    data = client.get_data(symbol=index)\n",
    "    for frequency in ['D', 'D-TUE', 'W-TUE', 'M-TUE']:\n",
    "        print(f'{frequency}\\n')\n",
    "        dm.gambler(data, frequency, 'abs_change')"
   ],
   "metadata": {
    "collapsed": false
   }
  },
  {
   "cell_type": "code",
   "execution_count": null,
   "outputs": [],
   "source": [
    "dm.analyser(data, frequency='W-TUE')"
   ],
   "metadata": {
    "collapsed": false
   }
  },
  {
   "cell_type": "code",
   "execution_count": null,
   "outputs": [],
   "source": [
    "# Modelling IV surface\n",
    "vol_surface = pd.read_csv('data/vol_surface.csv', index_col=0)\n",
    "vol_surface['tte_in_days'] = (vol_surface.time_to_expiry * 365).astype(int)"
   ],
   "metadata": {
    "collapsed": false
   }
  },
  {
   "cell_type": "code",
   "execution_count": null,
   "outputs": [],
   "source": [
    "# Modelling IV surface\n",
    "vol_surface_dict = {}\n",
    "for tte in vol_surface.tte_in_days.unique():\n",
    "    X = vol_surface.loc[vol_surface.tte_in_days == tte][['distance', 'distance_squared']]\n",
    "    y = vol_surface.loc[vol_surface.tte_in_days == tte]['iv_multiple']\n",
    "    model = LinearRegression()\n",
    "    model.fit(X, y)\n",
    "    dis_sq_coeff, dis_coeff, intercept = model.coef_[1], model.coef_[0], model.intercept_\n",
    "    score = model.score(X, y)\n",
    "    if score > 0.9:\n",
    "        vol_surface_dict[tte/365] = {'dis_sq_coeff': dis_sq_coeff, 'dis_coeff': dis_coeff, 'intercept': intercept, 'score': score}\n",
    "    print(f'{tte} days to expiry: Coefficients: {model.coef_}, Intercept: {model.intercept_}, R2: {model.score(X, y)}')\n",
    "vol_surface_weights = pd.DataFrame(vol_surface_dict).T.reset_index().rename(columns={'index': 'time_to_expiry'})\n",
    "vol_surface_weights.sort_values('time_to_expiry', inplace=True)"
   ],
   "metadata": {
    "collapsed": false
   }
  },
  {
   "cell_type": "code",
   "execution_count": null,
   "outputs": [],
   "source": [
    "# Modelling IV surface - Distance Squared coefficient vs Time to Expiry (inverse)\n",
    "for param in np.arange(0.2, 1.5, 0.1):\n",
    "    vol_surface_weights['tte_inverse'] = 1 / (vol_surface_weights.time_to_expiry**param)\n",
    "    X = vol_surface_weights['tte_inverse'].values.reshape(-1, 1)\n",
    "    y = vol_surface_weights['dis_coeff']\n",
    "    model = LinearRegression()\n",
    "    model.fit(X, y)\n",
    "    print(f'{param} param: Coefficients: {model.coef_}, Intercept: {model.intercept_}, R2: {model.score(X, y)}')"
   ],
   "metadata": {
    "collapsed": false
   }
  },
  {
   "cell_type": "code",
   "execution_count": null,
   "outputs": [],
   "source": [
    "# Modelling IV surface - Distance coefficient vs Time to Expiry\n",
    "X = vol_surface_weights['time_to_expiry'].values.reshape(-1, 1)\n",
    "y = vol_surface_weights['dis_coeff']\n",
    "model = LinearRegression()\n",
    "model.fit(X, y)\n",
    "print(f'Coefficients: {model.coef_}, Intercept: {model.intercept_}, R2: {model.score(X, y)}')"
   ],
   "metadata": {
    "collapsed": false
   }
  },
  {
   "cell_type": "code",
   "execution_count": null,
   "outputs": [],
   "source": [
    "px.scatter(vol_surface_weights, x='time_to_expiry', y='dis_coeff')"
   ],
   "metadata": {
    "collapsed": false
   }
  },
  {
   "cell_type": "code",
   "execution_count": null,
   "outputs": [],
   "source": [
    "def coefficients_for_surface(tte):\n",
    "\n",
    "    # distance squared coefficient\n",
    "    dfs2 = ((1 / tte ** 0.5) * 55.156423) - 168.2251168\n",
    "    dfs2 = min(dfs2, 20000)\n",
    "\n",
    "    # distance coefficient\n",
    "    dfs = 1 / ((tte ** 0.45) * 5)\n",
    "    dfs = min(dfs, 5)\n",
    "    dfs = -6 + dfs\n",
    "    return dfs2, dfs, .98"
   ],
   "metadata": {
    "collapsed": false
   }
  },
  {
   "cell_type": "code",
   "execution_count": null,
   "outputs": [],
   "source": [
    "coefficients_for_surface(1.25/365)"
   ],
   "metadata": {
    "collapsed": false
   }
  }
 ],
 "metadata": {
  "kernelspec": {
   "display_name": "Python 3",
   "language": "python",
   "name": "python3"
  },
  "language_info": {
   "codemirror_mode": {
    "name": "ipython",
    "version": 2
   },
   "file_extension": ".py",
   "mimetype": "text/x-python",
   "name": "python",
   "nbconvert_exporter": "python",
   "pygments_lexer": "ipython2",
   "version": "2.7.6"
  }
 },
 "nbformat": 4,
 "nbformat_minor": 0
}
